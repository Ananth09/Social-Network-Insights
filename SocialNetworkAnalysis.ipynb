{
 "cells": [
  {
   "cell_type": "markdown",
   "id": "349fbedd",
   "metadata": {},
   "source": [
    "# 1. Data Exploration and Preprocessing"
   ]
  },
  {
   "cell_type": "code",
   "execution_count": 4,
   "id": "0481944f",
   "metadata": {},
   "outputs": [
    {
     "name": "stdout",
     "output_type": "stream",
     "text": [
      "Graph with 4039 nodes and 88234 edges\n"
     ]
    },
    {
     "name": "stderr",
     "output_type": "stream",
     "text": [
      "C:\\Users\\anant\\AppData\\Local\\Temp\\ipykernel_26180\\3140007774.py:8: DeprecationWarning: info is deprecated and will be removed in version 3.0.\n",
      "\n",
      "  print(nx.info(G))\n"
     ]
    }
   ],
   "source": [
    "import networkx as nx\n",
    "\n",
    "# Load the facebook_combined.txt as an undirected graph\n",
    "file_path = 'facebook_combined.txt'\n",
    "G = nx.read_edgelist(file_path, create_using=nx.Graph(), nodetype=int)\n",
    "\n",
    "# Basic info about the network\n",
    "print(nx.info(G))\n"
   ]
  },
  {
   "cell_type": "code",
   "execution_count": null,
   "id": "82ba24b4",
   "metadata": {},
   "outputs": [],
   "source": []
  },
  {
   "cell_type": "code",
   "execution_count": 5,
   "id": "137822cd",
   "metadata": {},
   "outputs": [
    {
     "name": "stdout",
     "output_type": "stream",
     "text": [
      "Number of isolated nodes: 0\n"
     ]
    }
   ],
   "source": [
    "# List of isolated nodes (if any)\n",
    "isolated_nodes = list(nx.isolates(G))\n",
    "print(f\"Number of isolated nodes: {len(isolated_nodes)}\")\n",
    "\n",
    "if isolated_nodes:\n",
    "    print(f\"Isolated nodes: {isolated_nodes}\")\n"
   ]
  },
  {
   "cell_type": "code",
   "execution_count": null,
   "id": "336373c1",
   "metadata": {},
   "outputs": [],
   "source": []
  },
  {
   "cell_type": "code",
   "execution_count": 9,
   "id": "9505ccfe",
   "metadata": {},
   "outputs": [
    {
     "data": {
      "image/png": "[encoded data removed]",
      "text/plain": [
       "<Figure size 432x288 with 1 Axes>"
      ]
     },
     "metadata": {
      "needs_background": "light"
     },
     "output_type": "display_data"
    }
   ],
   "source": [
    "import matplotlib.pyplot as plt\n",
    "\n",
    "# Get degree of each node\n",
    "degree_sequence = sorted([d for n, d in G.degree()], reverse=True)\n",
    "\n",
    "# Plot degree distribution\n",
    "plt.hist(degree_sequence, bins=100, color='blue', edgecolor='black')\n",
    "plt.title(\"Degree Distribution\")\n",
    "plt.xlabel(\"Degree (Number of Connections)\")\n",
    "plt.ylabel(\"Frequency\")\n",
    "plt.yscale('log')  # Log scale for better visibility of distribution\n",
    "plt.grid(True, which=\"both\", ls=\"--\", linewidth=0.5)\n",
    "plt.show()\n"
   ]
  },
  {
   "cell_type": "code",
   "execution_count": null,
   "id": "927fd17f",
   "metadata": {},
   "outputs": [],
   "source": []
  },
  {
   "cell_type": "code",
   "execution_count": 7,
   "id": "c4b5ff7d",
   "metadata": {},
   "outputs": [
    {
     "name": "stdout",
     "output_type": "stream",
     "text": [
      "Average number of connections per user: 43.69\n"
     ]
    }
   ],
   "source": [
    "# Calculate the average degree\n",
    "average_degree = sum(degree_sequence) / G.number_of_nodes()\n",
    "print(f\"Average number of connections per user: {average_degree:.2f}\")\n"
   ]
  },
  {
   "cell_type": "code",
   "execution_count": 11,
   "id": "2421ae6a",
   "metadata": {},
   "outputs": [
    {
     "name": "stdout",
     "output_type": "stream",
     "text": [
      "Upper threshold for outliers: 148.52\n",
      "Lower threshold for outliers: -61.14\n",
      "Number of highly connected outliers: 216\n",
      "Number of lowly connected outliers: 0\n",
      "Highly connected outliers (User IDs): [0, 107, 348, 414, 1684, 1912, 483, 925, 946, 993, 1017, 1059, 1078, 1086, 1126, 1184, 1185, 1199, 1211, 1238, 1352, 1367, 1376, 1377, 1390, 1391, 1399, 1431, 1471, 1516, 1522, 1551, 1554, 1557, 1559, 1577, 1584, 1589, 1610, 1612, 1613, 1621, 1622, 1663, 1707, 1714, 1718, 1730, 1736, 1746, 1768, 1799, 1800, 1804, 1813, 1827, 1833, 1835, 1839, 1879, 1888, 2007, 2054, 2081, 2111, 2133, 2199, 2283, 2289, 2336, 2384, 2543, 2598, 3437, 686, 1941, 2047, 2087, 2266, 2282, 2328, 2333, 2347, 2542, 2468, 1917, 1918, 1929, 1938, 1943, 1946, 1962, 1966, 1971, 1979, 1983, 1984, 1985, 1986, 1993, 2005, 2020, 2030, 2033, 2037, 2040, 2043, 2045, 2059, 2064, 2069, 2073, 2074, 2078, 2088, 2090, 2093, 2095, 2103, 2104, 2108, 2112, 2118, 2121, 2123, 2124, 2131, 2139, 2140, 2142, 2150, 2154, 2172, 2184, 2188, 2190, 2200, 2201, 2206, 2218, 2220, 2229, 2233, 2240, 2244, 2253, 2257, 2271, 2275, 2276, 2278, 2290, 2299, 2308, 2309, 2323, 2324, 2326, 2331, 2339, 2340, 2348, 2352, 2354, 2356, 2363, 2369, 2370, 2374, 2376, 2381, 2395, 2404, 2408, 2409, 2410, 2414, 2423, 2428, 2446, 2460, 2464, 2482, 2492, 2500, 2504, 2507, 2520, 2526, 2549, 2550, 2551, 2553, 2559, 2560, 2561, 2564, 2573, 2578, 2586, 2590, 2593, 2600, 2601, 2602, 2604, 2607, 2611, 2615, 2619, 2624, 2625, 2630, 2638, 2654, 2655]\n"
     ]
    }
   ],
   "source": [
    "import numpy as np\n",
    "\n",
    "# Calculate mean and standard deviation for outlier detection\n",
    "mean_degree = np.mean(degree_sequence)\n",
    "std_degree = np.std(degree_sequence)\n",
    "\n",
    "# Define outliers as nodes with degrees > mean + 2*std or < mean - 2*std\n",
    "upper_threshold = mean_degree + 2 * std_degree\n",
    "lower_threshold = mean_degree - 2 * std_degree\n",
    "\n",
    "# Identify outliers\n",
    "outliers_high = [n for n, d in G.degree() if d > upper_threshold]\n",
    "outliers_low = [n for n, d in G.degree() if d < lower_threshold]\n",
    "\n",
    "print(f\"Upper threshold for outliers: {upper_threshold:.2f}\")\n",
    "print(f\"Lower threshold for outliers: {lower_threshold:.2f}\")\n",
    "print(f\"Number of highly connected outliers: {len(outliers_high)}\")\n",
    "print(f\"Number of lowly connected outliers: {len(outliers_low)}\")\n",
    "\n",
    "if outliers_high:\n",
    "    print(f\"Highly connected outliers (User IDs): {outliers_high}\")\n",
    "if outliers_low:\n",
    "    print(f\"Lowly connected outliers (User IDs): {outliers_low}\")\n"
   ]
  },
  {
   "cell_type": "markdown",
   "id": "168f7559",
   "metadata": {},
   "source": [
    "# 2)Graph Construction"
   ]
  },
  {
   "cell_type": "markdown",
   "id": "9c0ffec8",
   "metadata": {},
   "source": [
    "density=how many edges are there/how many total combinations of edges can the there\n",
    "for ex: 1 2 \n",
    "    3 4\n",
    "2 edges are there but total edges can be 12"
   ]
  },
  {
   "cell_type": "code",
   "execution_count": 13,
   "id": "f6a9c478",
   "metadata": {},
   "outputs": [
    {
     "name": "stdout",
     "output_type": "stream",
     "text": [
      "Network Density: 0.010820\n"
     ]
    }
   ],
   "source": [
    "# Calculate network density\n",
    "density = nx.density(G_lcc)\n",
    "print(f\"Network Density: {density:.6f}\")\n"
   ]
  },
  {
   "cell_type": "code",
   "execution_count": 15,
   "id": "980b13eb",
   "metadata": {},
   "outputs": [
    {
     "name": "stdout",
     "output_type": "stream",
     "text": [
      "Diameter of the Network: 8\n"
     ]
    }
   ],
   "source": [
    "# Calculate the diameter of the network\n",
    "diameter = nx.diameter(G_lcc)\n",
    "print(f\"Diameter of the Network: {diameter}\")\n"
   ]
  },
  {
   "cell_type": "code",
   "execution_count": 16,
   "id": "fe73d6d7",
   "metadata": {},
   "outputs": [
    {
     "name": "stdout",
     "output_type": "stream",
     "text": [
      "Average Path Length: 3.6925\n"
     ]
    }
   ],
   "source": [
    "# Calculate the average path length\n",
    "avg_path_length = nx.average_shortest_path_length(G_lcc)\n",
    "print(f\"Average Path Length: {avg_path_length:.4f}\")\n"
   ]
  },
  {
   "cell_type": "code",
   "execution_count": 17,
   "id": "cd627c27",
   "metadata": {},
   "outputs": [
    {
     "data": {
      "image/png": "[encoded data removed]",
      "text/plain": [
       "<Figure size 720x432 with 1 Axes>"
      ]
     },
     "metadata": {
      "needs_background": "light"
     },
     "output_type": "display_data"
    }
   ],
   "source": [
    "import matplotlib.pyplot as plt\n",
    "\n",
    "# Extract degree of each node\n",
    "degree_sequence = sorted([d for n, d in G_lcc.degree()], reverse=True)\n",
    "\n",
    "# Plot the degree distribution\n",
    "plt.figure(figsize=(10,6))\n",
    "plt.hist(degree_sequence, bins=50, color='skyblue', edgecolor='black')\n",
    "plt.title(\"Degree Distribution of Facebook Network (Largest Connected Component)\")\n",
    "plt.xlabel(\"Degree (Number of Connections)\")\n",
    "plt.ylabel(\"Frequency\")\n",
    "plt.yscale('log')  # Log scale for better visibility\n",
    "plt.grid(True, which=\"both\", ls=\"--\", linewidth=0.5)\n",
    "plt.show()\n"
   ]
  },
  {
   "cell_type": "code",
   "execution_count": 18,
   "id": "3dd1df7a",
   "metadata": {},
   "outputs": [
    {
     "data": {
      "image/png": "[encoded data removed]",
      "text/plain": [
       "<Figure size 720x432 with 1 Axes>"
      ]
     },
     "metadata": {
      "needs_background": "light"
     },
     "output_type": "display_data"
    }
   ],
   "source": [
    "# Calculate maximum possible edges\n",
    "num_nodes = G_lcc.number_of_nodes()\n",
    "max_edges = num_nodes * (num_nodes - 1) / 2\n",
    "\n",
    "# Actual edges\n",
    "actual_edges = G_lcc.number_of_edges()\n",
    "\n",
    "# Plot\n",
    "plt.figure(figsize=(10,6))\n",
    "plt.bar(['Actual Edges', 'Maximum Possible Edges'], [actual_edges, max_edges], color=['blue', 'orange'])\n",
    "plt.title(\"Network Density Visualization\")\n",
    "plt.ylabel(\"Number of Edges\")\n",
    "plt.show()\n"
   ]
  },
  {
   "cell_type": "code",
   "execution_count": null,
   "id": "9888db5f",
   "metadata": {},
   "outputs": [],
   "source": [
    "3"
   ]
  },
  {
   "cell_type": "code",
   "execution_count": 19,
   "id": "e47b4c1e",
   "metadata": {},
   "outputs": [
    {
     "name": "stdout",
     "output_type": "stream",
     "text": [
      "Requirement already satisfied: networkx in c:\\users\\anant\\anaconda3\\lib\\site-packages (2.7.1)Note: you may need to restart the kernel to use updated packages.\n",
      "\n",
      "Requirement already satisfied: matplotlib in c:\\users\\anant\\anaconda3\\lib\\site-packages (3.5.1)\n",
      "Requirement already satisfied: cycler>=0.10 in c:\\users\\anant\\anaconda3\\lib\\site-packages (from matplotlib) (0.11.0)\n",
      "Requirement already satisfied: fonttools>=4.22.0 in c:\\users\\anant\\anaconda3\\lib\\site-packages (from matplotlib) (4.25.0)\n",
      "Requirement already satisfied: kiwisolver>=1.0.1 in c:\\users\\anant\\anaconda3\\lib\\site-packages (from matplotlib) (1.3.2)\n",
      "Requirement already satisfied: numpy>=1.17 in c:\\users\\anant\\anaconda3\\lib\\site-packages (from matplotlib) (1.24.3)\n",
      "Requirement already satisfied: packaging>=20.0 in c:\\users\\anant\\anaconda3\\lib\\site-packages (from matplotlib) (23.1)\n",
      "Requirement already satisfied: pillow>=6.2.0 in c:\\users\\anant\\anaconda3\\lib\\site-packages (from matplotlib) (9.5.0)\n",
      "Requirement already satisfied: pyparsing>=2.2.1 in c:\\users\\anant\\anaconda3\\lib\\site-packages (from matplotlib) (3.0.9)\n",
      "Requirement already satisfied: python-dateutil>=2.7 in c:\\users\\anant\\anaconda3\\lib\\site-packages (from matplotlib) (2.8.2)\n",
      "Requirement already satisfied: six>=1.5 in c:\\users\\anant\\anaconda3\\lib\\site-packages (from python-dateutil>=2.7->matplotlib) (1.16.0)\n"
     ]
    }
   ],
   "source": [
    "pip install networkx matplotlib\n"
   ]
  },
  {
   "cell_type": "markdown",
   "id": "93e290d0",
   "metadata": {},
   "source": [
    "# 3. Identify Key Influencers:"
   ]
  },
  {
   "cell_type": "code",
   "execution_count": 20,
   "id": "a4bc6409",
   "metadata": {},
   "outputs": [],
   "source": [
    "# Calculate degree centrality\n",
    "degree_centrality = nx.degree_centrality(G_lcc)\n",
    "\n",
    "# Convert to dictionary and sort by centrality\n",
    "sorted_degree = sorted(degree_centrality.items(), key=lambda x: x[1], reverse=True)\n"
   ]
  },
  {
   "cell_type": "code",
   "execution_count": 21,
   "id": "0b01fcd6",
   "metadata": {},
   "outputs": [],
   "source": [
    "# Calculate closeness centrality\n",
    "closeness_centrality = nx.closeness_centrality(G_lcc)\n",
    "\n",
    "# Convert to dictionary and sort by centrality\n",
    "sorted_closeness = sorted(closeness_centrality.items(), key=lambda x: x[1], reverse=True)\n"
   ]
  },
  {
   "cell_type": "code",
   "execution_count": 22,
   "id": "abf744f0",
   "metadata": {},
   "outputs": [
    {
     "name": "stdout",
     "output_type": "stream",
     "text": [
      "Betweenness Centrality calculated in 303.52 seconds\n"
     ]
    }
   ],
   "source": [
    "import time\n",
    "\n",
    "# Optional: Compute betweenness centrality with normalization\n",
    "start_time = time.time()\n",
    "betweenness_centrality = nx.betweenness_centrality(G_lcc, normalized=True)\n",
    "end_time = time.time()\n",
    "print(f\"Betweenness Centrality calculated in {end_time - start_time:.2f} seconds\")\n",
    "\n",
    "# Convert to dictionary and sort by centrality\n",
    "sorted_betweenness = sorted(betweenness_centrality.items(), key=lambda x: x[1], reverse=True)\n"
   ]
  },
  {
   "cell_type": "code",
   "execution_count": 23,
   "id": "f4dceb5f",
   "metadata": {},
   "outputs": [],
   "source": [
    "# Calculate PageRank\n",
    "pagerank = nx.pagerank(G_lcc, alpha=0.85)\n",
    "\n",
    "# Convert to dictionary and sort by PageRank\n",
    "sorted_pagerank = sorted(pagerank.items(), key=lambda x: x[1], reverse=True)\n"
   ]
  },
  {
   "cell_type": "code",
   "execution_count": null,
   "id": "3abc7528",
   "metadata": {},
   "outputs": [],
   "source": []
  },
  {
   "cell_type": "code",
   "execution_count": 25,
   "id": "8b5e85be",
   "metadata": {},
   "outputs": [
    {
     "name": "stdout",
     "output_type": "stream",
     "text": [
      "Top Degree Centrality:\n",
      "User 107: 0.2588\n",
      "User 1684: 0.1961\n",
      "User 1912: 0.1870\n",
      "User 3437: 0.1355\n",
      "User 0: 0.0859\n",
      "\n",
      "Top Closeness Centrality:\n",
      "User 107: 0.4597\n",
      "User 58: 0.3974\n",
      "User 428: 0.3948\n",
      "User 563: 0.3939\n",
      "User 1684: 0.3936\n",
      "\n",
      "Top Betweenness Centrality:\n",
      "User 107: 0.4805\n",
      "User 1684: 0.3378\n",
      "User 3437: 0.2361\n",
      "User 1912: 0.2293\n",
      "User 1085: 0.1490\n",
      "\n",
      "Top PageRank:\n",
      "User 3437: 0.007615\n",
      "User 107: 0.006936\n",
      "User 1684: 0.006367\n",
      "User 0: 0.006290\n",
      "User 1912: 0.003877\n"
     ]
    }
   ],
   "source": [
    "# Define the number of top users to extract\n",
    "TOP_N = 5\n",
    "\n",
    "# Top Degree Centrality\n",
    "top_degree = sorted_degree[:TOP_N]\n",
    "print(\"Top Degree Centrality:\")\n",
    "for user, centrality in top_degree:\n",
    "    print(f\"User {user}: {centrality:.4f}\")\n",
    "\n",
    "print(\"\\nTop Closeness Centrality:\")\n",
    "top_closeness = sorted_closeness[:TOP_N]\n",
    "for user, centrality in top_closeness:\n",
    "    print(f\"User {user}: {centrality:.4f}\")\n",
    "\n",
    "print(\"\\nTop Betweenness Centrality:\")\n",
    "top_betweenness = sorted_betweenness[:TOP_N]\n",
    "for user, centrality in top_betweenness:\n",
    "    print(f\"User {user}: {centrality:.4f}\")\n",
    "\n",
    "print(\"\\nTop PageRank:\")\n",
    "top_pagerank = sorted_pagerank[:TOP_N]\n",
    "for user, rank in top_pagerank:\n",
    "    print(f\"User {user}: {rank:.6f}\")\n"
   ]
  },
  {
   "cell_type": "markdown",
   "id": "a88e82f3",
   "metadata": {},
   "source": [
    "comparing"
   ]
  },
  {
   "cell_type": "code",
   "execution_count": 26,
   "id": "7635e530",
   "metadata": {},
   "outputs": [
    {
     "data": {
      "image/png": "[encoded data removed]",
      "text/plain": [
       "<Figure size 720x432 with 1 Axes>"
      ]
     },
     "metadata": {
      "needs_background": "light"
     },
     "output_type": "display_data"
    }
   ],
   "source": [
    "import matplotlib.pyplot as plt\n",
    "\n",
    "# Extract degree centrality values\n",
    "degree_values = list(degree_centrality.values())\n",
    "\n",
    "plt.figure(figsize=(10,6))\n",
    "plt.hist(degree_values, bins=50, color='skyblue', edgecolor='black')\n",
    "plt.title(\"Degree Centrality Distribution\")\n",
    "plt.xlabel(\"Degree Centrality\")\n",
    "plt.ylabel(\"Number of Users\")\n",
    "plt.axvline(x=top_degree[-1][1], color='red', linestyle='dashed', linewidth=1, label=f\"Top {TOP_N} Threshold\")\n",
    "plt.legend()\n",
    "plt.show()\n"
   ]
  },
  {
   "cell_type": "code",
   "execution_count": 27,
   "id": "f5396214",
   "metadata": {},
   "outputs": [
    {
     "data": {
      "image/png": "[encoded data removed]",
      "text/plain": [
       "<Figure size 720x432 with 1 Axes>"
      ]
     },
     "metadata": {
      "needs_background": "light"
     },
     "output_type": "display_data"
    }
   ],
   "source": [
    "# Extract closeness centrality values\n",
    "closeness_values = list(closeness_centrality.values())\n",
    "\n",
    "plt.figure(figsize=(10,6))\n",
    "plt.hist(closeness_values, bins=50, color='lightgreen', edgecolor='black')\n",
    "plt.title(\"Closeness Centrality Distribution\")\n",
    "plt.xlabel(\"Closeness Centrality\")\n",
    "plt.ylabel(\"Number of Users\")\n",
    "plt.axvline(x=top_closeness[-1][1], color='red', linestyle='dashed', linewidth=1, label=f\"Top {TOP_N} Threshold\")\n",
    "plt.legend()\n",
    "plt.show()\n"
   ]
  },
  {
   "cell_type": "code",
   "execution_count": 28,
   "id": "52903677",
   "metadata": {},
   "outputs": [
    {
     "data": {
      "image/png": "[encoded data removed]",
      "text/plain": [
       "<Figure size 720x432 with 1 Axes>"
      ]
     },
     "metadata": {
      "needs_background": "light"
     },
     "output_type": "display_data"
    }
   ],
   "source": [
    "# Extract betweenness centrality values\n",
    "betweenness_values = list(betweenness_centrality.values())\n",
    "\n",
    "plt.figure(figsize=(10,6))\n",
    "plt.hist(betweenness_values, bins=50, color='salmon', edgecolor='black')\n",
    "plt.title(\"Betweenness Centrality Distribution\")\n",
    "plt.xlabel(\"Betweenness Centrality\")\n",
    "plt.ylabel(\"Number of Users\")\n",
    "plt.axvline(x=top_betweenness[-1][1], color='red', linestyle='dashed', linewidth=1, label=f\"Top {TOP_N} Threshold\")\n",
    "plt.legend()\n",
    "plt.show()\n"
   ]
  },
  {
   "cell_type": "code",
   "execution_count": 29,
   "id": "ee4740ee",
   "metadata": {},
   "outputs": [
    {
     "data": {
      "image/png": "[encoded data removed]",
      "text/plain": [
       "<Figure size 720x432 with 1 Axes>"
      ]
     },
     "metadata": {
      "needs_background": "light"
     },
     "output_type": "display_data"
    }
   ],
   "source": [
    "# Extract PageRank values\n",
    "pagerank_values = list(pagerank.values())\n",
    "\n",
    "plt.figure(figsize=(10,6))\n",
    "plt.hist(pagerank_values, bins=50, color='plum', edgecolor='black')\n",
    "plt.title(\"PageRank Distribution\")\n",
    "plt.xlabel(\"PageRank\")\n",
    "plt.ylabel(\"Number of Users\")\n",
    "plt.axvline(x=top_pagerank[-1][1], color='red', linestyle='dashed', linewidth=1, label=f\"Top {TOP_N} Threshold\")\n",
    "plt.legend()\n",
    "plt.show()\n"
   ]
  },
  {
   "cell_type": "markdown",
   "id": "bb88088f",
   "metadata": {},
   "source": [
    "Detailed identification of key influencers"
   ]
  },
  {
   "cell_type": "code",
   "execution_count": 34,
   "id": "c4912cbe",
   "metadata": {},
   "outputs": [
    {
     "name": "stdout",
     "output_type": "stream",
     "text": [
      "Key Influencers (appearing in multiple top centrality measures):\n",
      "User 107\n",
      "User 1684\n",
      "User 1912\n",
      "User 3437\n",
      "User 0\n",
      "\n",
      "Detailed Metrics of Key Influencers:\n",
      "   UserID  Degree Centrality  Closeness Centrality  Betweenness Centrality  \\\n",
      "0     107           0.258791              0.459699                0.480518   \n",
      "1    1684           0.196137              0.393606                0.337797   \n",
      "2    1912           0.186974              0.350947                0.229295   \n",
      "3    3437           0.135463              0.314413                0.236115   \n",
      "4       0           0.085934              0.353343                0.146306   \n",
      "\n",
      "   PageRank  \n",
      "0  0.006936  \n",
      "1  0.006367  \n",
      "2  0.003877  \n",
      "3  0.007615  \n",
      "4  0.006290  \n"
     ]
    }
   ],
   "source": [
    "from collections import Counter\n",
    "\n",
    "# Combine all top users into a single list\n",
    "all_top_users = [user for user, _ in top_degree] + \\\n",
    "               [user for user, _ in top_closeness] + \\\n",
    "               [user for user, _ in top_betweenness] + \\\n",
    "               [user for user, _ in top_pagerank]\n",
    "\n",
    "# Count the frequency of each user in the top lists\n",
    "top_user_counts = Counter(all_top_users)\n",
    "\n",
    "# Users appearing in multiple top lists\n",
    "influential_users = [user for user, count in top_user_counts.items() if count > 1]\n",
    "\n",
    "print(\"Key Influencers (appearing in multiple top centrality measures):\")\n",
    "for user in influential_users:\n",
    "    print(f\"User {user}\")\n",
    "\n",
    "# For a more detailed view, create a dataframe\n",
    "import pandas as pd\n",
    "\n",
    "# Create a dataframe for top users\n",
    "top_users_data = {\n",
    "    'UserID': [],\n",
    "    'Degree Centrality': [],\n",
    "    'Closeness Centrality': [],\n",
    "    'Betweenness Centrality': [],\n",
    "    'PageRank': []\n",
    "}\n",
    "\n",
    "for user in influential_users:\n",
    "    top_users_data['UserID'].append(user)\n",
    "    top_users_data['Degree Centrality'].append(degree_centrality[user])\n",
    "    top_users_data['Closeness Centrality'].append(closeness_centrality[user])\n",
    "    top_users_data['Betweenness Centrality'].append(betweenness_centrality[user])\n",
    "    top_users_data['PageRank'].append(pagerank[user])\n",
    "\n",
    "# Convert to DataFrame\n",
    "top_users_df = pd.DataFrame(top_users_data)\n",
    "\n",
    "# Display the DataFrame\n",
    "print(\"\\nDetailed Metrics of Key Influencers:\")\n",
    "print(top_users_df.sort_values(by='Degree Centrality', ascending=False))\n"
   ]
  },
  {
   "cell_type": "markdown",
   "id": "3252c1cb",
   "metadata": {},
   "source": [
    "How it differs from general population?"
   ]
  },
  {
   "cell_type": "code",
   "execution_count": 35,
   "id": "ca746108",
   "metadata": {},
   "outputs": [
    {
     "name": "stdout",
     "output_type": "stream",
     "text": [
      "                  Measure  Population Mean  Population Std Dev  \\\n",
      "0       Degree Centrality         0.010820            0.012980   \n",
      "1    Closeness Centrality         0.276168            0.036120   \n",
      "2  Betweenness Centrality         0.000667            0.011645   \n",
      "3                PageRank         0.000248            0.000259   \n",
      "\n",
      "   Top Users Mean  Top Users Std Dev  \n",
      "0        0.172660           0.058446  \n",
      "1        0.374402           0.049471  \n",
      "2        0.286006           0.114663  \n",
      "3        0.006217           0.001263  \n"
     ]
    }
   ],
   "source": [
    "import numpy as np\n",
    "\n",
    "# Function to calculate statistics\n",
    "def centrality_stats(centrality, top_users):\n",
    "    values = np.array(list(centrality.values()))\n",
    "    top_values = np.array([centrality[user] for user in top_users])\n",
    "    population_mean = np.mean(values)\n",
    "    population_std = np.std(values)\n",
    "    top_mean = np.mean(top_values)\n",
    "    top_std = np.std(top_values)\n",
    "    return population_mean, population_std, top_mean, top_std\n",
    "\n",
    "# Degree Centrality\n",
    "deg_pop_mean, deg_pop_std, deg_top_mean, deg_top_std = centrality_stats(degree_centrality, influential_users)\n",
    "\n",
    "# Closeness Centrality\n",
    "close_pop_mean, close_pop_std, close_top_mean, close_top_std = centrality_stats(closeness_centrality, influential_users)\n",
    "\n",
    "# Betweenness Centrality\n",
    "bet_pop_mean, bet_pop_std, bet_top_mean, bet_top_std = centrality_stats(betweenness_centrality, influential_users)\n",
    "\n",
    "# PageRank\n",
    "pr_pop_mean, pr_pop_std, pr_top_mean, pr_top_std = centrality_stats(pagerank, influential_users)\n",
    "\n",
    "# Display the statistics\n",
    "stats_data = {\n",
    "    'Measure': ['Degree Centrality', 'Closeness Centrality', 'Betweenness Centrality', 'PageRank'],\n",
    "    'Population Mean': [deg_pop_mean, close_pop_mean, bet_pop_mean, pr_pop_mean],\n",
    "    'Population Std Dev': [deg_pop_std, close_pop_std, bet_pop_std, pr_pop_std],\n",
    "    'Top Users Mean': [deg_top_mean, close_top_mean, bet_top_mean, pr_top_mean],\n",
    "    'Top Users Std Dev': [deg_top_std, close_top_std, bet_top_std, pr_top_std]\n",
    "}\n",
    "\n",
    "stats_df = pd.DataFrame(stats_data)\n",
    "print(stats_df)\n"
   ]
  },
  {
   "cell_type": "markdown",
   "id": "0d8f4f2d",
   "metadata": {},
   "source": [
    "visualization of influencers vs population"
   ]
  },
  {
   "cell_type": "code",
   "execution_count": 38,
   "id": "66d24bfb",
   "metadata": {},
   "outputs": [
    {
     "data": {
      "image/png": "[encoded data removed]",
      "text/plain": [
       "<Figure size 720x432 with 1 Axes>"
      ]
     },
     "metadata": {
      "needs_background": "light"
     },
     "output_type": "display_data"
    }
   ],
   "source": [
    "import matplotlib.pyplot as plt\n",
    "\n",
    "# Ensure closeness_centrality.values() is converted to a list\n",
    "all_users_closeness = list(closeness_centrality.values())\n",
    "top_influencers_closeness = [closeness_centrality[user] for user in influential_users]\n",
    "\n",
    "plt.figure(figsize=(10,6))\n",
    "plt.boxplot([all_users_closeness, top_influencers_closeness], \n",
    "            labels=['All Users', 'Top Influencers'])\n",
    "plt.title(\"Closeness Centrality Comparison\")\n",
    "plt.ylabel(\"Closeness Centrality\")\n",
    "plt.show()\n"
   ]
  },
  {
   "cell_type": "code",
   "execution_count": 44,
   "id": "a914b075",
   "metadata": {},
   "outputs": [
    {
     "data": {
      "image/png": "[encoded data removed]",
      "text/plain": [
       "<Figure size 720x432 with 1 Axes>"
      ]
     },
     "metadata": {
      "needs_background": "light"
     },
     "output_type": "display_data"
    }
   ],
   "source": [
    "plt.figure(figsize=(10,6))\n",
    "all_degree = list(degree_centrality.values())\n",
    "top_influencers_closeness = [degree_centrality[user] for user in influential_users]\n",
    "\n",
    "plt.boxplot([all_degree, top_influencers_closeness], labels=['All Users', 'Top Influencers'])\n",
    "plt.title(\"Degree Centrality Comparison\")\n",
    "plt.ylabel(\"Degree Centrality\")\n",
    "plt.show()\n"
   ]
  },
  {
   "cell_type": "code",
   "execution_count": 45,
   "id": "5d9b2b2b",
   "metadata": {},
   "outputs": [
    {
     "data": {
      "image/png": "[encoded data removed]",
      "text/plain": [
       "<Figure size 720x432 with 1 Axes>"
      ]
     },
     "metadata": {
      "needs_background": "light"
     },
     "output_type": "display_data"
    }
   ],
   "source": [
    "plt.figure(figsize=(10,6))\n",
    "\n",
    "# Convert dict values to list for betweenness centrality\n",
    "all_betweenness = list(betweenness_centrality.values())\n",
    "top_influencers_betweenness = [betweenness_centrality[user] for user in influential_users]\n",
    "\n",
    "plt.boxplot([all_betweenness, top_influencers_betweenness], labels=['All Users', 'Top Influencers'])\n",
    "plt.title(\"Betweenness Centrality Comparison\")\n",
    "plt.ylabel(\"Betweenness Centrality\")\n",
    "\n",
    "plt.show()\n"
   ]
  },
  {
   "cell_type": "code",
   "execution_count": 46,
   "id": "6c8e448e",
   "metadata": {},
   "outputs": [
    {
     "data": {
      "image/png": "[encoded data removed]",
      "text/plain": [
       "<Figure size 720x432 with 1 Axes>"
      ]
     },
     "metadata": {
      "needs_background": "light"
     },
     "output_type": "display_data"
    }
   ],
   "source": [
    "plt.figure(figsize=(10,6))\n",
    "\n",
    "# Convert dict values to list for PageRank\n",
    "all_pagerank = list(pagerank.values())\n",
    "top_influencers_pagerank = [pagerank[user] for user in influential_users]\n",
    "\n",
    "plt.boxplot([all_pagerank, top_influencers_pagerank], labels=['All Users', 'Top Influencers'])\n",
    "plt.title(\"PageRank Comparison\")\n",
    "plt.ylabel(\"PageRank\")\n",
    "\n",
    "plt.show()\n"
   ]
  },
  {
   "cell_type": "markdown",
   "id": "cfdd7c81",
   "metadata": {},
   "source": [
    "Summary of Key Influencers Analysis\n",
    "Identification: Using centrality measures, I pinpointed users who are highly connected, strategically positioned, and influential within the network.\n",
    "\n",
    "Differentiation: These key influencers exhibit centrality scores that are significantly higher than the average, making them stand out as pivotal players.\n",
    "\n",
    "Strategic Engagement: Tailored business strategies, including personalized outreach, collaborative marketing, and exclusive incentives, can effectively engage these influencers, leveraging their position to amplify your brand's reach and impact.\n",
    "\n",
    "    \n",
    "Next Steps:\n",
    "With key influencers identified, consider the following advanced analyses and actions to further harness the network's potential:\n",
    "\n",
    "-Community Detection:\n",
    "\n",
    "Identify clusters within the network and understand how influencers are distributed across communities.\n",
    "\n",
    "-Influence Propagation Modeling:\n",
    "\n",
    "Simulate how information spreads through the network, leveraging the positions of key influencers.\n",
    "\n",
    "-Sentiment Analysis:\n",
    "\n",
    "Analyze the sentiment of communications involving influencers to gauge public perception.\n",
    "\n",
    "-Network Evolution Tracking:\n",
    "\n",
    "Monitor how influencers' centrality measures change over time, indicating shifts in influence and network dynamics.\n",
    "\n",
    "-Integration with User Attributes:\n",
    "\n",
    "Merge centrality data with user attributes (from ego files) to understand demographic or behavioral characteristics of influencers.\n"
   ]
  },
  {
   "cell_type": "markdown",
   "id": "f6012391",
   "metadata": {},
   "source": [
    "# 4)Community Detection"
   ]
  },
  {
   "cell_type": "code",
   "execution_count": 47,
   "id": "0510b746",
   "metadata": {},
   "outputs": [
    {
     "name": "stdout",
     "output_type": "stream",
     "text": [
      "Requirement already satisfied: networkx in c:\\users\\anant\\anaconda3\\lib\\site-packages (2.7.1)\n",
      "Collecting python-louvain\n",
      "  Downloading python-louvain-0.16.tar.gz (204 kB)\n",
      "  Preparing metadata (setup.py): started\n",
      "  Preparing metadata (setup.py): finished with status 'done'\n",
      "Requirement already satisfied: pandas in c:\\users\\anant\\anaconda3\\lib\\site-packages (2.1.0)\n",
      "Requirement already satisfied: matplotlib in c:\\users\\anant\\anaconda3\\lib\\site-packages (3.5.1)\n",
      "Requirement already satisfied: seaborn in c:\\users\\anant\\anaconda3\\lib\\site-packages (0.11.2)\n",
      "Requirement already satisfied: numpy in c:\\users\\anant\\anaconda3\\lib\\site-packages (from python-louvain) (1.24.3)\n",
      "Requirement already satisfied: python-dateutil>=2.8.2 in c:\\users\\anant\\anaconda3\\lib\\site-packages (from pandas) (2.8.2)\n",
      "Requirement already satisfied: pytz>=2020.1 in c:\\users\\anant\\anaconda3\\lib\\site-packages (from pandas) (2023.3)\n",
      "Requirement already satisfied: tzdata>=2022.1 in c:\\users\\anant\\anaconda3\\lib\\site-packages (from pandas) (2023.3)\n",
      "Requirement already satisfied: cycler>=0.10 in c:\\users\\anant\\anaconda3\\lib\\site-packages (from matplotlib) (0.11.0)\n",
      "Requirement already satisfied: fonttools>=4.22.0 in c:\\users\\anant\\anaconda3\\lib\\site-packages (from matplotlib) (4.25.0)\n",
      "Requirement already satisfied: kiwisolver>=1.0.1 in c:\\users\\anant\\anaconda3\\lib\\site-packages (from matplotlib) (1.3.2)\n",
      "Requirement already satisfied: packaging>=20.0 in c:\\users\\anant\\anaconda3\\lib\\site-packages (from matplotlib) (23.1)\n",
      "Requirement already satisfied: pillow>=6.2.0 in c:\\users\\anant\\anaconda3\\lib\\site-packages (from matplotlib) (9.5.0)\n",
      "Requirement already satisfied: pyparsing>=2.2.1 in c:\\users\\anant\\anaconda3\\lib\\site-packages (from matplotlib) (3.0.9)\n",
      "Requirement already satisfied: scipy>=1.0 in c:\\users\\anant\\anaconda3\\lib\\site-packages (from seaborn) (1.10.1)\n",
      "Requirement already satisfied: six>=1.5 in c:\\users\\anant\\anaconda3\\lib\\site-packages (from python-dateutil>=2.8.2->pandas) (1.16.0)\n",
      "Building wheels for collected packages: python-louvain\n",
      "  Building wheel for python-louvain (setup.py): started\n",
      "  Building wheel for python-louvain (setup.py): finished with status 'done'\n",
      "  Created wheel for python-louvain: filename=python_louvain-0.16-py3-none-any.whl size=9414 sha256=90bbe29ecb880a191d5dbbff75a6abff25f07d1b57a154dea73787ba5ccd015e\n",
      "  Stored in directory: c:\\users\\anant\\appdata\\local\\pip\\cache\\wheels\\4d\\7c\\b6\\79b198e4ec43f915fbdf967953d48b89a18893b12aa9df0ae2\n",
      "Successfully built python-louvain\n",
      "Installing collected packages: python-louvain\n",
      "Successfully installed python-louvain-0.16\n",
      "Note: you may need to restart the kernel to use updated packages.\n"
     ]
    }
   ],
   "source": [
    "pip install networkx python-louvain pandas matplotlib seaborn"
   ]
  },
  {
   "cell_type": "markdown",
   "id": "15b71ef5",
   "metadata": {},
   "source": [
    "considering age and location"
   ]
  },
  {
   "cell_type": "code",
   "execution_count": 57,
   "id": "c67314cf",
   "metadata": {},
   "outputs": [
    {
     "name": "stdout",
     "output_type": "stream",
     "text": [
      "   UserID  gender    schools\n",
      "0       1    Male  [Unknown]\n",
      "1       2  Female       [35]\n",
      "2       3  Female   [34, 50]\n",
      "3       4  Female       [50]\n",
      "4       5  Female   [49, 50]\n"
     ]
    }
   ],
   "source": [
    "import os\n",
    "import pandas as pd\n",
    "\n",
    "# Directory containing ego feature files\n",
    "feat_dir = 'facebook/'\n",
    "\n",
    "# Initialize a dictionary to store user attributes\n",
    "user_attributes = {}\n",
    "\n",
    "# Iterate through each ego file\n",
    "for filename in os.listdir(feat_dir):\n",
    "    if filename.endswith('.feat'):\n",
    "        ego_id = int(filename.split('.')[0])  # Extract ego ID from filename\n",
    "        feat_file = os.path.join(feat_dir, filename)\n",
    "        \n",
    "        # Load features\n",
    "        with open(feat_file, 'r') as f:\n",
    "            lines = f.readlines()\n",
    "            for line in lines:\n",
    "                parts = line.strip().split()\n",
    "                if not parts:\n",
    "                    continue  # Skip empty lines\n",
    "                friend_id = int(parts[0])\n",
    "                features = list(map(float, parts[1:]))\n",
    "                \n",
    "                gender_features = features[77:79]\n",
    "                if sum(gender_features) == 0:\n",
    "                    gender = 'Unknown'\n",
    "                elif gender_features[0] == 1:\n",
    "                    gender = 'Male'\n",
    "                elif gender_features[1] == 1:\n",
    "                    gender = 'Female'\n",
    "                else:\n",
    "                    gender = 'Unknown'\n",
    "                \n",
    "                # Extract school from features 24-52\n",
    "                # Assuming one-hot encoding for different school IDs\n",
    "                school_features = features[24:53]\n",
    "                schools = [i + 24 for i, val in enumerate(school_features) if val == 1]\n",
    "                if not schools:\n",
    "                    schools = ['Unknown']\n",
    "                \n",
    "                # Assign attributes\n",
    "                user_attributes[friend_id] = {\n",
    "                    'gender': gender,\n",
    "                    'schools': schools  # List of school IDs\n",
    "                }\n",
    "\n",
    "# Convert to DataFrame\n",
    "attributes_df = pd.DataFrame.from_dict(user_attributes, orient='index')\n",
    "\n",
    "# Reset index to have UserID as a column\n",
    "attributes_df = attributes_df.reset_index().rename(columns={'index': 'UserID'})\n",
    "\n",
    "# Filter only users in the LCC\n",
    "attributes_df = attributes_df[attributes_df['UserID'].isin(G_lcc.nodes())]\n",
    "\n",
    "print(attributes_df.head())\n"
   ]
  },
  {
   "cell_type": "code",
   "execution_count": null,
   "id": "0d033469",
   "metadata": {},
   "outputs": [],
   "source": []
  },
  {
   "cell_type": "markdown",
   "id": "44e2c7cf",
   "metadata": {},
   "source": [
    "Louvain Community Detection Algo"
   ]
  },
  {
   "cell_type": "code",
   "execution_count": 77,
   "id": "aff81b10",
   "metadata": {},
   "outputs": [
    {
     "name": "stdout",
     "output_type": "stream",
     "text": [
      "Number of communities detected: 15\n"
     ]
    }
   ],
   "source": [
    "# Perform Louvain community detection\n",
    "partition = community_louvain.best_partition(G_lcc, random_state=42)\n",
    "\n",
    "# Add community information to the graph\n",
    "nx.set_node_attributes(G_lcc, partition, 'community')\n",
    "\n",
    "# Number of communities detected\n",
    "num_communities = len(set(partition.values()))\n",
    "print(f\"Number of communities detected: {num_communities}\")\n"
   ]
  },
  {
   "cell_type": "code",
   "execution_count": 78,
   "id": "9a6694d7",
   "metadata": {},
   "outputs": [
    {
     "name": "stdout",
     "output_type": "stream",
     "text": [
      "      UserID  Community gender primary_school\n",
      "4034    4034         14   Male             27\n",
      "4035    4035         14   Male             27\n",
      "4036    4036         14   Male             27\n",
      "4037    4037         14   Male        Unknown\n",
      "4038    4038         14   Male             27\n"
     ]
    }
   ],
   "source": [
    "# Convert partition to DataFrame\n",
    "community_df = pd.DataFrame(list(partition.items()), columns=['UserID', 'Community'])\n",
    "\n",
    "# Merge with attributes\n",
    "community_attributes = community_df.merge(attributes_df, on='UserID', how='left')\n",
    "\n",
    "print(community_attributes.tail())\n"
   ]
  },
  {
   "cell_type": "markdown",
   "id": "5ff1a806",
   "metadata": {},
   "source": [
    "Analyzing detected communities"
   ]
  },
  {
   "cell_type": "code",
   "execution_count": 79,
   "id": "2038672b",
   "metadata": {},
   "outputs": [
    {
     "name": "stderr",
     "output_type": "stream",
     "text": [
      "C:\\Users\\anant\\anaconda3\\lib\\site-packages\\seaborn\\_core.py:1225: FutureWarning: is_categorical_dtype is deprecated and will be removed in a future version. Use isinstance(dtype, CategoricalDtype) instead\n",
      "  if pd.api.types.is_categorical_dtype(vector):\n",
      "C:\\Users\\anant\\anaconda3\\lib\\site-packages\\seaborn\\_core.py:1225: FutureWarning: is_categorical_dtype is deprecated and will be removed in a future version. Use isinstance(dtype, CategoricalDtype) instead\n",
      "  if pd.api.types.is_categorical_dtype(vector):\n",
      "C:\\Users\\anant\\anaconda3\\lib\\site-packages\\seaborn\\_core.py:1225: FutureWarning: is_categorical_dtype is deprecated and will be removed in a future version. Use isinstance(dtype, CategoricalDtype) instead\n",
      "  if pd.api.types.is_categorical_dtype(vector):\n"
     ]
    },
    {
     "data": {
      "image/png": "[encoded data removed]",
      "text/plain": [
       "<Figure size 864x432 with 1 Axes>"
      ]
     },
     "metadata": {
      "needs_background": "light"
     },
     "output_type": "display_data"
    }
   ],
   "source": [
    "# Calculate community sizes\n",
    "community_sizes = community_df['Community'].value_counts().sort_values(ascending=False)\n",
    "\n",
    "# Plot community size distribution\n",
    "plt.figure(figsize=(12,6))\n",
    "sns.barplot(x=community_sizes.index.astype(str), y=community_sizes.values, palette='viridis')\n",
    "plt.title(\"Community Size Distribution\")\n",
    "plt.xlabel(\"Community\")\n",
    "plt.ylabel(\"Number of Users\")\n",
    "plt.xticks(rotation=90)\n",
    "plt.show()\n"
   ]
  },
  {
   "cell_type": "markdown",
   "id": "b34e1396",
   "metadata": {},
   "source": [
    "gender distribution"
   ]
  },
  {
   "cell_type": "code",
   "execution_count": 80,
   "id": "797b0c44",
   "metadata": {},
   "outputs": [
    {
     "name": "stderr",
     "output_type": "stream",
     "text": [
      "C:\\Users\\anant\\anaconda3\\lib\\site-packages\\seaborn\\_core.py:1225: FutureWarning: is_categorical_dtype is deprecated and will be removed in a future version. Use isinstance(dtype, CategoricalDtype) instead\n",
      "  if pd.api.types.is_categorical_dtype(vector):\n",
      "C:\\Users\\anant\\anaconda3\\lib\\site-packages\\seaborn\\_core.py:1225: FutureWarning: is_categorical_dtype is deprecated and will be removed in a future version. Use isinstance(dtype, CategoricalDtype) instead\n",
      "  if pd.api.types.is_categorical_dtype(vector):\n",
      "C:\\Users\\anant\\anaconda3\\lib\\site-packages\\seaborn\\_core.py:1225: FutureWarning: is_categorical_dtype is deprecated and will be removed in a future version. Use isinstance(dtype, CategoricalDtype) instead\n",
      "  if pd.api.types.is_categorical_dtype(vector):\n",
      "C:\\Users\\anant\\anaconda3\\lib\\site-packages\\seaborn\\_core.py:1225: FutureWarning: is_categorical_dtype is deprecated and will be removed in a future version. Use isinstance(dtype, CategoricalDtype) instead\n",
      "  if pd.api.types.is_categorical_dtype(vector):\n"
     ]
    },
    {
     "data": {
      "image/png": "[encoded data removed]",
      "text/plain": [
       "<Figure size 1008x576 with 1 Axes>"
      ]
     },
     "metadata": {
      "needs_background": "light"
     },
     "output_type": "display_data"
    }
   ],
   "source": [
    "plt.figure(figsize=(14,8))\n",
    "sns.countplot(x='Community', hue='gender', data=community_attributes, palette='Set1')\n",
    "plt.title(\"Gender Distribution Across Communities\")\n",
    "plt.xlabel(\"Community\")\n",
    "plt.ylabel(\"Number of Users\")\n",
    "plt.legend(title='Gender')\n",
    "plt.xticks(rotation=90)\n",
    "plt.show()\n"
   ]
  },
  {
   "cell_type": "markdown",
   "id": "01f36368",
   "metadata": {},
   "source": [
    "school distribution across communities"
   ]
  },
  {
   "cell_type": "code",
   "execution_count": 71,
   "id": "d17ee7b7",
   "metadata": {},
   "outputs": [
    {
     "name": "stderr",
     "output_type": "stream",
     "text": [
      "C:\\Users\\anant\\anaconda3\\lib\\site-packages\\seaborn\\_core.py:1225: FutureWarning: is_categorical_dtype is deprecated and will be removed in a future version. Use isinstance(dtype, CategoricalDtype) instead\n",
      "  if pd.api.types.is_categorical_dtype(vector):\n",
      "C:\\Users\\anant\\anaconda3\\lib\\site-packages\\seaborn\\_core.py:1225: FutureWarning: is_categorical_dtype is deprecated and will be removed in a future version. Use isinstance(dtype, CategoricalDtype) instead\n",
      "  if pd.api.types.is_categorical_dtype(vector):\n",
      "C:\\Users\\anant\\anaconda3\\lib\\site-packages\\seaborn\\_core.py:1225: FutureWarning: is_categorical_dtype is deprecated and will be removed in a future version. Use isinstance(dtype, CategoricalDtype) instead\n",
      "  if pd.api.types.is_categorical_dtype(vector):\n",
      "C:\\Users\\anant\\anaconda3\\lib\\site-packages\\seaborn\\_core.py:1225: FutureWarning: is_categorical_dtype is deprecated and will be removed in a future version. Use isinstance(dtype, CategoricalDtype) instead\n",
      "  if pd.api.types.is_categorical_dtype(vector):\n"
     ]
    },
    {
     "data": {
      "image/png": "[encoded data removed]",
      "text/plain": [
       "<Figure size 1008x576 with 1 Axes>"
      ]
     },
     "metadata": {
      "needs_background": "light"
     },
     "output_type": "display_data"
    }
   ],
   "source": [
    "plt.figure(figsize=(14,8))\n",
    "sns.countplot(x='Community', hue='primary_school', data=community_attributes, palette='Set3', dodge=False)\n",
    "plt.title(\"Primary School Distribution Across Communities\")\n",
    "plt.xlabel(\"Community\")\n",
    "plt.ylabel(\"Number of Users\")\n",
    "plt.legend(title='Primary School', bbox_to_anchor=(1.05, 1), loc='upper left')\n",
    "plt.xticks(rotation=90)\n",
    "plt.show()\n"
   ]
  },
  {
   "cell_type": "code",
   "execution_count": 81,
   "id": "05422226",
   "metadata": {},
   "outputs": [
    {
     "name": "stdout",
     "output_type": "stream",
     "text": [
      "gender         Female                                ... Male                  \\\n",
      "primary_school     24  25 26 27 28 30  31 32  33 34  ...   41  43 44 45 47 49   \n",
      "Community                                            ...                        \n",
      "0                   1   2  0  1  2  1   2  1   5  2  ...    0   4  1  2  5  1   \n",
      "1                  19  28  9  2  6  4  24  0  39  2  ...    0  23  0  0  2  0   \n",
      "2                   8   2  7  0  1  1   5  0   2  2  ...    0   1  0  0  2  0   \n",
      "3                   0   0  0  0  0  0   0  0   0  0  ...    0   0  0  0  0  0   \n",
      "4                   2   2  0  0  1  2   0  0   0  0  ...    0   3  0  3  1  0   \n",
      "\n",
      "gender                            \n",
      "primary_school  50 51 52 Unknown  \n",
      "Community                         \n",
      "0               38  2  4      52  \n",
      "1                0  1  1     101  \n",
      "2                0  2  0     227  \n",
      "3                0  0  0       8  \n",
      "4                1  0  3     181  \n",
      "\n",
      "[5 rows x 54 columns]\n"
     ]
    }
   ],
   "source": [
    "# Create pivot table\n",
    "pivot_gender_school = community_attributes.pivot_table(index='Community', \n",
    "                                                       columns=['gender', 'primary_school'], \n",
    "                                                       aggfunc='size', \n",
    "                                                       fill_value=0)\n",
    "\n",
    "print(pivot_gender_school.head())\n"
   ]
  },
  {
   "cell_type": "markdown",
   "id": "88f86d52",
   "metadata": {},
   "source": [
    "Based on the community analysis focusing on gender and school, here are tailored strategies to engage each community effectively.\n",
    "\n",
    "1. Gender-Specific Campaigns\n",
    "Objective: Create campaigns that resonate with the dominant gender within a community.\n",
    "\n",
    "Strategies:\n",
    "\n",
    "Female-Dominated Communities:\n",
    "Promote products or services aligned with interests commonly associated with female users.\n",
    "Example: Fashion, beauty products, wellness programs.\n",
    "Male-Dominated Communities:\n",
    "Focus on products or services catering to male interests.\n",
    "Example: Technology gadgets, sports-related products, automotive services.\n",
    "2. School-Centric Engagement\n",
    "Objective: Leverage school affiliations to foster community loyalty and advocacy.\n",
    "\n",
    "Strategies:\n",
    "\n",
    "Alumni Networks:\n",
    "Organize alumni events or reunions to provide networking opportunities for users sharing the same school background.\n",
    "Collaborative Projects:\n",
    "Encourage collaborative projects or group activities that tap into shared school experiences.\n",
    "Exclusive Content:\n",
    "Share content reflecting the history, achievements, or notable alumni of specific schools to enhance relatability.\n",
    "3. Enhancing User Activity in Passive Communities\n",
    "Objective: Boost engagement and interaction within less active communities.\n",
    "\n",
    "Strategies:\n",
    "\n",
    "Interactive Events:\n",
    "Host webinars, Q&A sessions, or virtual meetups to stimulate interaction.\n",
    "Gamification:\n",
    "Introduce gamified elements like badges, leaderboards, or challenges to motivate participation.\n",
    "Content Personalization:\n",
    "Deliver personalized content aligning with the interests and preferences of users within these communities.\n",
    "4. Addressing 'Unknown' Attributes\n",
    "Objective: Encourage users to complete their profiles, enhancing data quality and personalization.\n",
    "\n",
    "Strategies:\n",
    "\n",
    "Profile Completion Incentives:\n",
    "Offer incentives such as discounts or access to exclusive features for users who complete their profiles.\n",
    "Interactive Prompts:\n",
    "Implement prompts or reminders encouraging users to update their information.\n",
    "Simplified Data Entry:\n",
    "Make the profile update process user-friendly, minimizing the effort required to provide accurate information.\n",
    "5. Leveraging Highly Active and Influential Communities\n",
    "Objective: Utilize active communities as hubs for information dissemination and brand advocacy.\n",
    "\n",
    "Strategies:\n",
    "\n",
    "Influencer Partnerships:\n",
    "Collaborate with key influencers or highly connected users within these communities to amplify marketing messages.\n",
    "Community Challenges:\n",
    "Launch challenges or campaigns that encourage users to participate and share, leveraging their high activity levels.\n",
    "Exclusive Previews:\n",
    "Offer sneak peeks or early access to products, fostering a sense of exclusivity and engagement."
   ]
  },
  {
   "cell_type": "markdown",
   "id": "ca8d510e",
   "metadata": {},
   "source": [
    "# 5)Recommendation Engine"
   ]
  },
  {
   "cell_type": "markdown",
   "id": "7c94a338",
   "metadata": {},
   "source": [
    "Factors to Consider\n",
    "- Node Similarity\n",
    "Feature-Based Similarity: Users with similar attributes (e.g., interests, education, location) are more likely to be interested in connecting. Use features like school, job, or common interests to measure similarity.\n",
    "Community Membership: Users within the same community or connected communities often share similar interests and are more likely to connect.\n",
    "- Graph Properties\n",
    "Common Neighbors: Users who share many common neighbors are likely to have mutual interests. This can be computed by finding the intersection of neighbors.\n",
    "Jaccard Index: Measures similarity between users based on the ratio of common friends to total unique friends.\n",
    "Adamic-Adar Index: Gives more weight to less common neighbors, which helps to identify connections that might be less obvious but still significant.\n",
    "Preferential Attachment: Users with many connections are more likely to get new connections, which can be used to recommend popular users.\n",
    "- User Activity\n",
    "Interaction Frequency: Users who frequently interact with their connections may benefit from connecting with other active users.\n",
    "Engagement Metrics: High engagement users (e.g., those who post frequently or have many interactions) might be more likely to connect with others who are also engaged.\n",
    "- Node Centrality\n",
    "Degree Centrality: Users with a high number of connections might be influential or popular, making them ideal candidates for new connections.\n",
    "Betweenness Centrality: Users who act as bridges between different parts of the network can facilitate connections across communities.\n",
    "Closeness Centrality: Users who are close to many others in the network can be recommended to improve overall network connectivity."
   ]
  },
  {
   "cell_type": "markdown",
   "id": "1ad0ddce",
   "metadata": {},
   "source": [
    "Algo design\n",
    "We'll design a recommendation system using several methods based on graph properties:\n",
    "\n",
    "Common Neighbors Method\n",
    "Jaccard Index\n",
    "Adamic-Adar Index\n",
    "Personalized PageRank"
   ]
  },
  {
   "cell_type": "markdown",
   "id": "d087b67e",
   "metadata": {},
   "source": [
    " Common Neighbors Method\n",
    "This method recommends users who share a high number of common neighbors with the target user."
   ]
  },
  {
   "cell_type": "markdown",
   "id": "fb45991d",
   "metadata": {},
   "source": [
    "Jaccard Index\n",
    "The Jaccard Index measures similarity based on the ratio of common neighbors to total neighbors."
   ]
  },
  {
   "cell_type": "markdown",
   "id": "1915d11a",
   "metadata": {},
   "source": [
    " Adamic-Adar Index\n",
    "The Adamic-Adar Index gives more weight to connections with less common neighbors."
   ]
  },
  {
   "cell_type": "code",
   "execution_count": 95,
   "id": "f08a9fa3",
   "metadata": {},
   "outputs": [],
   "source": [
    "import networkx as nx\n",
    "import numpy as np\n",
    "\n",
    "def compute_common_neighbors(G, user_id):\n",
    "    neighbors = set(G.neighbors(user_id))\n",
    "    scores = {}\n",
    "    for node in G.nodes():\n",
    "        if node != user_id and node not in neighbors:\n",
    "            common_neighbors = neighbors.intersection(set(G.neighbors(node)))\n",
    "            scores[node] = len(common_neighbors)\n",
    "    return scores\n",
    "\n",
    "def compute_jaccard_index(G, user_id):\n",
    "    neighbors = set(G.neighbors(user_id))\n",
    "    scores = {}\n",
    "    for node in G.nodes():\n",
    "        if node != user_id:\n",
    "            neighbors_node = set(G.neighbors(node))\n",
    "            intersection = len(neighbors.intersection(neighbors_node))\n",
    "            union = len(neighbors.union(neighbors_node))\n",
    "            jaccard_index = intersection / union if union > 0 else 0\n",
    "            scores[node] = jaccard_index\n",
    "    return scores\n",
    "\n",
    "def compute_adamic_adar_index(G, user_id):\n",
    "    neighbors = set(G.neighbors(user_id))\n",
    "    scores = {}\n",
    "    for node in G.nodes():\n",
    "        if node != user_id:\n",
    "            common_neighbors = neighbors.intersection(set(G.neighbors(node)))\n",
    "            score = sum(1 / np.log(len(set(G.neighbors(n)))) for n in common_neighbors if len(set(G.neighbors(n))) > 0)\n",
    "            scores[node] = score\n",
    "    return scores\n",
    "\n",
    "def recommend_connections(G, user_id, top_n=10):\n",
    "    common_neighbors_scores = compute_common_neighbors(G, user_id)\n",
    "    jaccard_scores = compute_jaccard_index(G, user_id)\n",
    "    adamic_adar_scores = compute_adamic_adar_index(G, user_id)\n",
    "    \n",
    "    # Combine scores\n",
    "    combined_scores = {}\n",
    "    all_nodes = set(common_neighbors_scores) | set(jaccard_scores) | set(adamic_adar_scores)\n",
    "    for node in all_nodes:\n",
    "        combined_scores[node] = (\n",
    "            common_neighbors_scores.get(node, 0) +\n",
    "            jaccard_scores.get(node, 0) +\n",
    "            adamic_adar_scores.get(node, 0)\n",
    "        )\n",
    "    \n",
    "    # Sort by combined score and return top N recommendations\n",
    "    recommendations = sorted(combined_scores.items(), key=lambda x: x[1], reverse=True)\n",
    "    \n",
    "    return recommendations[:top_n]\n",
    "\n",
    "def incorporate_centrality(G, user_id, recommendations):\n",
    "    centrality_scores = {\n",
    "        node: (G.degree(node) + nx.betweenness_centrality(G).get(node, 0))\n",
    "        for node in G.nodes()\n",
    "    }\n",
    "    \n",
    "    updated_recommendations = []\n",
    "    for node, score in recommendations:\n",
    "        if node in centrality_scores:\n",
    "            updated_score = score + centrality_scores[node]\n",
    "            updated_recommendations.append((node, updated_score))\n",
    "        else:\n",
    "            updated_recommendations.append((node, score))\n",
    "    \n",
    "    return sorted(updated_recommendations, key=lambda x: x[1], reverse=True)\n"
   ]
  },
  {
   "cell_type": "code",
   "execution_count": null,
   "id": "20f64fb2",
   "metadata": {},
   "outputs": [],
   "source": [
    "user_id=1\n",
    "recommendations = recommend_connections(G, user_id)\n",
    "\n",
    "# Incorporate centrality\n",
    "final_recommendations = incorporate_centrality(G, user_id, recommendations)"
   ]
  },
  {
   "cell_type": "markdown",
   "id": "438a2568",
   "metadata": {},
   "source": [
    "# 6)Interpretation and Business Insights"
   ]
  },
  {
   "cell_type": "markdown",
   "id": "d2987ca3",
   "metadata": {},
   "source": [
    "Based on the network analysis, some actionable business insights:\n",
    "\n",
    "### **1. Leveraging Key Influencers**\n",
    "\n",
    "**Insight:**\n",
    "Key influencers in the network are users with high centrality measures, such as degree centrality, closeness centrality, betweenness centrality, or high PageRank scores. \n",
    "\n",
    "**Actionable Strategies:**\n",
    "- **Targeted Marketing:** Develop personalized marketing campaigns directed at key influencers. These users are likely to have a strong impact on their connections, so promoting products or campaigns through them can amplify reach and effectiveness.\n",
    "- **Exclusive Offers:** Provide exclusive offers or early access to new products for influencers to increase their engagement and promote positive word-of-mouth.\n",
    "- **Partnerships:** Collaborate with influencers to create branded content or endorsements that leverage their authority and reach.\n",
    "\n",
    "### **2. Utilizing Community Structures**\n",
    "\n",
    "**Insight:**\n",
    "Understanding community structures can help in tailoring marketing strategies to specific segments.\n",
    "\n",
    "**Actionable Strategies:**\n",
    "- **Segmented Campaigns:** Design marketing campaigns tailored to the interests and characteristics of different communities. For example, if one community is highly engaged with educational content, promote educational products or services within that community.\n",
    "- **Localized Promotions:** Offer community-specific promotions or events that resonate with the cultural or regional traits of each community.\n",
    "- **User Retention:** Identify active communities that are at risk of becoming inactive and develop strategies to re-engage them, such as through community-driven events or exclusive content.\n",
    "\n",
    "### **3. Additional Network-Based Strategies**\n",
    "\n",
    "**Insight:**\n",
    "network-based strategies can enhance user engagement and growth.\n",
    "\n",
    "**Actionable Strategies:**\n",
    "- **Recommendation Systems:** Use network-based recommendation systems to suggest friends or connections, which can increase user engagement and retention by expanding users' social circles.\n",
    "- **Influencer Detection:** Regularly update your analysis to identify emerging influencers and adapt your marketing strategies accordingly.\n",
    "- **Feedback Loops:** Implement mechanisms to gather feedback from users on their network connections and interactions to continuously refine recommendation algorithms and marketing strategies.\n",
    "- **Virality Analysis:** Study the patterns of how information spreads through the network to design viral marketing campaigns that capitalize on the network’s structure.\n",
    "\n",
    "\n",
    "These strategies will help optimize user engagement, improve marketing effectiveness, and drive growth within the social network."
   ]
  },
  {
   "cell_type": "code",
   "execution_count": null,
   "id": "a735e97f",
   "metadata": {},
   "outputs": [],
   "source": []
  }
 ],
 "metadata": {
  "kernelspec": {
   "display_name": "Python 3 (ipykernel)",
   "language": "python",
   "name": "python3"
  },
  "language_info": {
   "codemirror_mode": {
    "name": "ipython",
    "version": 3
   },
   "file_extension": ".py",
   "mimetype": "text/x-python",
   "name": "python",
   "nbconvert_exporter": "python",
   "pygments_lexer": "ipython3",
   "version": "3.9.12"
  }
 },
 "nbformat": 4,
 "nbformat_minor": 5
}
